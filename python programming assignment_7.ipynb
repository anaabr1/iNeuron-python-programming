{
 "cells": [
  {
   "cell_type": "markdown",
   "id": "6b037473",
   "metadata": {},
   "source": [
    "# 1. Write a Python Program to find sum of array?\n"
   ]
  },
  {
   "cell_type": "code",
   "execution_count": 3,
   "id": "32cf8c81",
   "metadata": {},
   "outputs": [
    {
     "data": {
      "text/plain": [
       "32"
      ]
     },
     "execution_count": 3,
     "metadata": {},
     "output_type": "execute_result"
    }
   ],
   "source": [
    "#example 1\n",
    "list = [2,3,4,2,7,5,9]\n",
    "sum(list)"
   ]
  },
  {
   "cell_type": "code",
   "execution_count": 4,
   "id": "9a039f0e",
   "metadata": {},
   "outputs": [
    {
     "name": "stdout",
     "output_type": "stream",
     "text": [
      "Sum is 32\n"
     ]
    }
   ],
   "source": [
    "#example 2\n",
    "sum =0\n",
    "list = [2,3,4,2,7,5,9]\n",
    "for i in range(0,len(list)):\n",
    "    sum+=list[i]\n",
    "print(\"Sum is\",sum)\n",
    "    "
   ]
  },
  {
   "cell_type": "markdown",
   "id": "c6dc4785",
   "metadata": {},
   "source": [
    "# 2. Write a Python Program to find largest element in an array?\n"
   ]
  },
  {
   "cell_type": "code",
   "execution_count": 6,
   "id": "05bccd8b",
   "metadata": {},
   "outputs": [
    {
     "name": "stdout",
     "output_type": "stream",
     "text": [
      "largest elemnt in the array [100, 4, 10, 7, 5, 9] is 100\n"
     ]
    }
   ],
   "source": [
    "list = [100,4,10,7,5,9]\n",
    "max(list)\n",
    "print(\"largest elemnt in the array {} is {}\".format(list,max(list)))"
   ]
  },
  {
   "cell_type": "markdown",
   "id": "407b6578",
   "metadata": {},
   "source": [
    "# . Write a Python Program for array rotation?\n"
   ]
  },
  {
   "cell_type": "code",
   "execution_count": 7,
   "id": "c147283d",
   "metadata": {},
   "outputs": [
    {
     "name": "stdout",
     "output_type": "stream",
     "text": [
      "Enter the lenth of your list : 6\n",
      "2\n",
      "3\n",
      "5\n",
      "4\n",
      "7\n",
      "6\n",
      "The List is  [2, 3, 5, 4, 7, 6]\n",
      "Enter Rotation Right/Left : left\n",
      "Enter the number of elements to rotate < : 4\n",
      "After Left rotation :  [7, 6, 2, 3, 5, 4]\n"
     ]
    }
   ],
   "source": [
    "n = int(input(\"Enter the lenth of your list : \"))\n",
    "lst = []\n",
    "\n",
    "for i in range(n):\n",
    "    lst.append(int(input()))\n",
    "print(\"The List is \",lst)\n",
    "rotation = input(\"Enter Rotation Right/Left : \")\n",
    "nele = int(input(\"Enter the number of elements to rotate < : \"))\n",
    "if nele > n:\n",
    "    print(\"can not rotate as elements to rotate is larger then list lengh\")\n",
    "else:\n",
    "    rlst = []\n",
    "    if rotation.upper() == \"RIGHT\":\n",
    "        rlst[:] = lst[-nele:] + lst[:(n-nele)]\n",
    "        print(\"After right rotation : \",rlst)\n",
    "    elif rotation.upper() == \"LEFT\":\n",
    "        rlst[:] = lst[nele:n] + lst[:nele] \n",
    "        print(\"After Left rotation : \",rlst)\n",
    "    else:\n",
    "        print(\"Invalid Entry\")"
   ]
  },
  {
   "cell_type": "markdown",
   "id": "7b7fc80d",
   "metadata": {},
   "source": [
    "# 4. Write a Python Program to Split the array and add the first part to the end?\n"
   ]
  },
  {
   "cell_type": "code",
   "execution_count": 14,
   "id": "6fd83a3b",
   "metadata": {},
   "outputs": [
    {
     "name": "stdout",
     "output_type": "stream",
     "text": [
      "Enter the lenth of your list : 5\n",
      "2\n",
      "3\n",
      "6\n",
      "4\n",
      "7\n",
      "The List is  [2, 3, 6, 4, 7]\n",
      "Enter the number of elements to split < : 5\n",
      "The split list is : [2, 3, 6, 4, 7]\n",
      "The List after split and add : [2, 3, 6, 4, 7]\n"
     ]
    }
   ],
   "source": [
    "n = int(input(\"Enter the lenth of your list : \"))\n",
    "lst = []\n",
    "\n",
    "for i in range(n):\n",
    "    lst.append(int(input()))\n",
    "print(\"The List is \",lst)\n",
    "\n",
    "nele = int(input(\"Enter the number of elements to split < : \"))\n",
    "if nele > n:\n",
    "    print(\"can not split as elements to split is larger then list lengh\")\n",
    "else:\n",
    "    print(\"The split list is :\",lst[:nele])\n",
    "    rlst[:] = lst[nele:n] + lst[:nele]\n",
    "    print(\"The List after split and add :\", rlst)"
   ]
  },
  {
   "cell_type": "markdown",
   "id": "3accff27",
   "metadata": {},
   "source": [
    "# 5 Write a Python Program to check if given array is Monotonic?\n",
    "- An array is said to be monotonic in nature if it is either continuously increasing or continuously decreasing.\n"
   ]
  },
  {
   "cell_type": "code",
   "execution_count": 10,
   "id": "1fa2ce7d",
   "metadata": {},
   "outputs": [
    {
     "name": "stdout",
     "output_type": "stream",
     "text": [
      "Enter the lenth of your list : 6\n",
      "8\n",
      "7\n",
      "5\n",
      "1\n",
      "2\n",
      "3\n",
      "The List is  [8, 7, 5, 1, 2, 3]\n",
      "Not Monotonic\n"
     ]
    }
   ],
   "source": [
    "n = int(input(\"Enter the lenth of your list : \"))\n",
    "list = []\n",
    "\n",
    "for i in range(n):\n",
    "    list.append(int(input()))\n",
    "print(\"The List is \",list)\n",
    "\n",
    "if all((list[i] <= list[i+1] for i in range(n-1)) or (list[i] >= list[i+1] for i in range(n-1))):\n",
    "    print(\"Monotonic\")\n",
    "else:\n",
    "    print(\"Not Monotonic\")"
   ]
  },
  {
   "cell_type": "code",
   "execution_count": null,
   "id": "53d2419e",
   "metadata": {},
   "outputs": [],
   "source": []
  }
 ],
 "metadata": {
  "kernelspec": {
   "display_name": "Python 3 (ipykernel)",
   "language": "python",
   "name": "python3"
  },
  "language_info": {
   "codemirror_mode": {
    "name": "ipython",
    "version": 3
   },
   "file_extension": ".py",
   "mimetype": "text/x-python",
   "name": "python",
   "nbconvert_exporter": "python",
   "pygments_lexer": "ipython3",
   "version": "3.9.13"
  }
 },
 "nbformat": 4,
 "nbformat_minor": 5
}
