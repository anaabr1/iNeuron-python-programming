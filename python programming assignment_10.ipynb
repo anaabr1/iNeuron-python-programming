{
 "cells": [
  {
   "cell_type": "markdown",
   "id": "1a56ab49",
   "metadata": {},
   "source": [
    "# 1. Write a Python program to find sum of elements in list?\n"
   ]
  },
  {
   "cell_type": "code",
   "execution_count": 1,
   "id": "c5ec128a",
   "metadata": {},
   "outputs": [
    {
     "name": "stdout",
     "output_type": "stream",
     "text": [
      "Enter the lenth of your list : 5\n",
      "2\n",
      "3\n",
      "4\n",
      "5\n",
      "1\n",
      "The List is  [2, 3, 4, 5, 1]\n",
      "Sum of elements in List 15\n"
     ]
    }
   ],
   "source": [
    "n = int(input(\"Enter the lenth of your list : \"))\n",
    "lst = []\n",
    "\n",
    "for i in range(n):\n",
    "    lst.append(int(input()))\n",
    "print(\"The List is \",lst)\n",
    "print(\"Sum of elements in List\",sum(lst))"
   ]
  },
  {
   "cell_type": "markdown",
   "id": "08dc0bf0",
   "metadata": {},
   "source": [
    "# 2. Write a Python program to Multiply all numbers in the list?\n"
   ]
  },
  {
   "cell_type": "code",
   "execution_count": 2,
   "id": "d6772701",
   "metadata": {},
   "outputs": [
    {
     "name": "stdout",
     "output_type": "stream",
     "text": [
      "Enter the lenth of your list : 4\n",
      "6\n",
      "7\n",
      "8\n",
      "9\n",
      "The List is  [6, 7, 8, 9]\n",
      "Product of elements in List is : 3024\n"
     ]
    }
   ],
   "source": [
    "n = int(input(\"Enter the lenth of your list : \"))\n",
    "lst = []\n",
    "\n",
    "for i in range(n):\n",
    "    lst.append(int(input()))\n",
    "print(\"The List is \",lst)\n",
    "product = 1\n",
    "for ele in lst:\n",
    "    product = product*ele\n",
    "print(\"Product of elements in List is :\",product)"
   ]
  },
  {
   "cell_type": "markdown",
   "id": "fd8fe96b",
   "metadata": {},
   "source": [
    "# 3. Write a Python program to find smallest number in a list?\n"
   ]
  },
  {
   "cell_type": "code",
   "execution_count": 3,
   "id": "71bc7b52",
   "metadata": {},
   "outputs": [
    {
     "name": "stdout",
     "output_type": "stream",
     "text": [
      "Enter the lenth of your list : 5\n",
      "7\n",
      "8\n",
      "9\n",
      "10\n",
      "3\n",
      "The List is  [7, 8, 9, 10, 3]\n",
      "The Smallest element in the list is : 3\n"
     ]
    }
   ],
   "source": [
    "n = int(input(\"Enter the lenth of your list : \"))\n",
    "lst = []\n",
    "\n",
    "for i in range(n):\n",
    "    lst.append(int(input()))\n",
    "print(\"The List is \",lst)\n",
    "print(\"The Smallest element in the list is :\",min(lst))"
   ]
  },
  {
   "cell_type": "markdown",
   "id": "69227382",
   "metadata": {},
   "source": [
    "# 4. Write a Python program to find largest number in a list?\n"
   ]
  },
  {
   "cell_type": "code",
   "execution_count": 4,
   "id": "71caf77a",
   "metadata": {},
   "outputs": [
    {
     "name": "stdout",
     "output_type": "stream",
     "text": [
      "Enter the lenth of your list : 4\n",
      "1\n",
      "4\n",
      "6\n",
      "8\n",
      "The List is  [1, 4, 6, 8]\n",
      "The largest element in the list is : 8\n"
     ]
    }
   ],
   "source": [
    "n = int(input(\"Enter the lenth of your list : \"))\n",
    "lst = []\n",
    "\n",
    "for i in range(n):\n",
    "    lst.append(int(input()))\n",
    "print(\"The List is \",lst)\n",
    "print(\"The largest element in the list is :\",max(lst))\n"
   ]
  },
  {
   "cell_type": "markdown",
   "id": "eb6473ff",
   "metadata": {},
   "source": [
    "# 5. Write a Python program to find second largest number in a list?\n"
   ]
  },
  {
   "cell_type": "code",
   "execution_count": 5,
   "id": "2590ca38",
   "metadata": {},
   "outputs": [
    {
     "name": "stdout",
     "output_type": "stream",
     "text": [
      "Enter the lenth of your list : 6\n",
      "9\n",
      "8\n",
      "7\n",
      "6\n",
      "5\n",
      "4\n",
      "The List is  [9, 8, 7, 6, 5, 4]\n",
      "The sorted list is  [4, 5, 6, 7, 8, 9]\n",
      "The second largest element in the list is  8\n"
     ]
    }
   ],
   "source": [
    "n = int(input(\"Enter the lenth of your list : \"))\n",
    "lst = []\n",
    "\n",
    "for i in range(n):\n",
    "    lst.append(int(input()))\n",
    "print(\"The List is \",lst)\n",
    "lst.sort()\n",
    "print(\"The sorted list is \",lst)\n",
    "print(\"The second largest element in the list is \",lst[-2])"
   ]
  },
  {
   "cell_type": "markdown",
   "id": "475848a9",
   "metadata": {},
   "source": [
    "# 6. Write a Python program to find N largest elements from a list?\n"
   ]
  },
  {
   "cell_type": "code",
   "execution_count": 6,
   "id": "5cbde2e8",
   "metadata": {},
   "outputs": [
    {
     "name": "stdout",
     "output_type": "stream",
     "text": [
      "Enter the lenth of your list : 6\n",
      "2\n",
      "3\n",
      "4\n",
      "5\n",
      "6\n",
      "7\n",
      "The List is  [2, 3, 4, 5, 6, 7]\n",
      "The sorted list is  [2, 3, 4, 5, 6, 7]\n",
      "Enter how many largest number u want to see in from the list :3\n",
      "3 largest elements from the list are : [5, 6, 7]\n"
     ]
    }
   ],
   "source": [
    "n = int(input(\"Enter the lenth of your list : \"))\n",
    "lst = []\n",
    "\n",
    "for i in range(n):\n",
    "    lst.append(int(input()))\n",
    "print(\"The List is \",lst)\n",
    "lst.sort()\n",
    "print(\"The sorted list is \",lst)\n",
    "nlargest = int(input(\"Enter how many largest number u want to see in from the list :\"))\n",
    "\n",
    "if n < nlargest :\n",
    "    print(\"enterted value is larger then that list length\")\n",
    "else:\n",
    "    print(nlargest,\"largest elements from the list are :\",lst[(n-nlargest):])"
   ]
  },
  {
   "cell_type": "markdown",
   "id": "5b2c4d02",
   "metadata": {},
   "source": [
    "# 7. Write a Python program to print even numbers in a list?\n"
   ]
  },
  {
   "cell_type": "code",
   "execution_count": 9,
   "id": "3d2c1324",
   "metadata": {},
   "outputs": [
    {
     "name": "stdout",
     "output_type": "stream",
     "text": [
      "Enter the lenth of your list : 4\n",
      "4\n",
      "7\n",
      "8\n",
      "2\n",
      "The List is  [4, 7, 8, 2]\n",
      "The even numbers in the list are : [4, 8, 2]\n"
     ]
    }
   ],
   "source": [
    "n = int(input(\"Enter the lenth of your list : \"))\n",
    "lst = []\n",
    "\n",
    "for i in range(n):\n",
    "    lst.append(int(input()))\n",
    "print(\"The List is \",lst)\n",
    "evenlist =[]\n",
    "\n",
    "for i in lst:\n",
    "    if i % 2 == 0:\n",
    "        evenlist.append(i)\n",
    "print(\"The even numbers in the list are :\",evenlist)"
   ]
  },
  {
   "cell_type": "markdown",
   "id": "26d64b0b",
   "metadata": {},
   "source": [
    "# 8. Write a Python program to print odd numbers in a List?\n"
   ]
  },
  {
   "cell_type": "code",
   "execution_count": 10,
   "id": "03929119",
   "metadata": {},
   "outputs": [
    {
     "name": "stdout",
     "output_type": "stream",
     "text": [
      "Enter the lenth of your list : 5\n",
      "1\n",
      "2\n",
      "3\n",
      "4\n",
      "5\n",
      "The List is  [1, 2, 3, 4, 5]\n",
      "The odd numbers in the list are : [1, 3, 5]\n"
     ]
    }
   ],
   "source": [
    "n = int(input(\"Enter the lenth of your list : \"))\n",
    "lst = []\n",
    "\n",
    "for i in range(n):\n",
    "    lst.append(int(input()))\n",
    "print(\"The List is \",lst)\n",
    "oddlist =[]\n",
    "\n",
    "for i in lst:\n",
    "    if i % 2 != 0:\n",
    "        oddlist.append(i)\n",
    "print(\"The odd numbers in the list are :\",oddlist)"
   ]
  },
  {
   "cell_type": "markdown",
   "id": "9b05bd5c",
   "metadata": {},
   "source": [
    "# 9. Write a Python program to Remove empty List from List?\n"
   ]
  },
  {
   "cell_type": "code",
   "execution_count": 11,
   "id": "5bfe7644",
   "metadata": {},
   "outputs": [
    {
     "name": "stdout",
     "output_type": "stream",
     "text": [
      "The List : [2, [], 4, 5, [], 6, 8, [], 3]\n",
      "The list after removing empty lists\n",
      "[2, 4, 5, 6, 8, 3]\n"
     ]
    }
   ],
   "source": [
    "lst = [2,[],4,5,[],6,8,[],3]\n",
    "print(\"The List :\",lst)\n",
    "removedlist = [ele for ele in lst if ele != []]\n",
    "print(\"The list after removing empty lists\")\n",
    "print(removedlist)"
   ]
  },
  {
   "cell_type": "markdown",
   "id": "11f5ea15",
   "metadata": {},
   "source": [
    "# 10. Write a Python program to Cloning or Copying a list?"
   ]
  },
  {
   "cell_type": "code",
   "execution_count": 12,
   "id": "7bf3248b",
   "metadata": {},
   "outputs": [
    {
     "name": "stdout",
     "output_type": "stream",
     "text": [
      "Enter the lenth of your list : 4\n",
      "6\n",
      "3\n",
      "9\n",
      "6\n",
      "The List is  [6, 3, 9, 6]\n",
      "The cloned/copied list :\n",
      "Cloning By list slicing lst[:]  [6, 3, 9, 6]\n"
     ]
    }
   ],
   "source": [
    "n = int(input(\"Enter the lenth of your list : \"))\n",
    "lst = []\n",
    "\n",
    "for i in range(n):\n",
    "    lst.append(int(input()))\n",
    "print(\"The List is \",lst)\n",
    "\n",
    "print(\"The cloned/copied list :\")\n",
    "\n",
    "lstcopy = lst[:]\n",
    "print(\"Cloning By list slicing lst[:] \",lstcopy)\n"
   ]
  },
  {
   "cell_type": "code",
   "execution_count": null,
   "id": "074277ad",
   "metadata": {},
   "outputs": [],
   "source": []
  }
 ],
 "metadata": {
  "kernelspec": {
   "display_name": "Python 3 (ipykernel)",
   "language": "python",
   "name": "python3"
  },
  "language_info": {
   "codemirror_mode": {
    "name": "ipython",
    "version": 3
   },
   "file_extension": ".py",
   "mimetype": "text/x-python",
   "name": "python",
   "nbconvert_exporter": "python",
   "pygments_lexer": "ipython3",
   "version": "3.9.13"
  }
 },
 "nbformat": 4,
 "nbformat_minor": 5
}
