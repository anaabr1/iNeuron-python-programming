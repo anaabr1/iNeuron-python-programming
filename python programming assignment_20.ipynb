{
 "cells": [
  {
   "cell_type": "markdown",
   "id": "f5bfc9e0",
   "metadata": {},
   "source": [
    "# Question1\n",
    "Create a function that takes a list of strings and integers, and filters out the list so that it returns a list of integers only.\n",
    "\n",
    "Examples\n",
    "\n",
    "filter_list([1, 2, 3, 'a', 'b', 4]) ➞ [1, 2, 3, 4]\n",
    "\n",
    "filter_list(['A', 0, 'Edabit', 1729, 'Python', '1729']) ➞ [0, 1729]\n",
    "\n",
    "filter_list(['Nothing', 'here']) ➞ []"
   ]
  },
  {
   "cell_type": "code",
   "execution_count": 1,
   "id": "bc6329ff",
   "metadata": {},
   "outputs": [],
   "source": [
    "lst = [1, 2, 3, 'a', 'b', 4]\n",
    "def filter_list(lst):\n",
    "    intLst = []\n",
    "    for i in lst:\n",
    "        if type(i) == int:\n",
    "            intLst.append(i)\n",
    "    return intLst      "
   ]
  },
  {
   "cell_type": "code",
   "execution_count": 2,
   "id": "47c2794c",
   "metadata": {},
   "outputs": [
    {
     "data": {
      "text/plain": [
       "[1, 2, 3, 4]"
      ]
     },
     "execution_count": 2,
     "metadata": {},
     "output_type": "execute_result"
    }
   ],
   "source": [
    "filter_list([1, 2, 3, 'a', 'b', 4])"
   ]
  },
  {
   "cell_type": "code",
   "execution_count": 3,
   "id": "a897745c",
   "metadata": {},
   "outputs": [
    {
     "data": {
      "text/plain": [
       "[0, 1729]"
      ]
     },
     "execution_count": 3,
     "metadata": {},
     "output_type": "execute_result"
    }
   ],
   "source": [
    "filter_list(['A', 0, 'Edabit', 1729, 'Python', '1729'])"
   ]
  },
  {
   "cell_type": "code",
   "execution_count": 4,
   "id": "70e0fc03",
   "metadata": {},
   "outputs": [
    {
     "data": {
      "text/plain": [
       "[]"
      ]
     },
     "execution_count": 4,
     "metadata": {},
     "output_type": "execute_result"
    }
   ],
   "source": [
    "filter_list(['Nothing', 'here'])"
   ]
  },
  {
   "cell_type": "markdown",
   "id": "efca774d",
   "metadata": {},
   "source": [
    "# Question2\n",
    "Given a list of numbers, create a function which returns the list but with each element's index in the list added to itself. This means you add 0 to the number at index 0, add 1 to the number at index 1, etc...\n",
    "\n",
    "Examples\n",
    "\n",
    "add_indexes([0, 0, 0, 0, 0]) ➞ [0, 1, 2, 3, 4]\n",
    "\n",
    "add_indexes([1, 2, 3, 4, 5]) ➞ [1, 3, 5, 7, 9]\n",
    "\n",
    "add_indexes([5, 4, 3, 2, 1]) ➞ [5, 5, 5, 5, 5]"
   ]
  },
  {
   "cell_type": "code",
   "execution_count": 5,
   "id": "415dcf73",
   "metadata": {},
   "outputs": [],
   "source": [
    "def add_indexes(lst):\n",
    "    ind = 0\n",
    "    index = []\n",
    "    for i in lst:\n",
    "        index.append(lst.index(i,ind) + i)\n",
    "        ind+=1\n",
    "    return index"
   ]
  },
  {
   "cell_type": "code",
   "execution_count": 6,
   "id": "f08374f0",
   "metadata": {},
   "outputs": [
    {
     "data": {
      "text/plain": [
       "[0, 1, 2, 3, 4]"
      ]
     },
     "execution_count": 6,
     "metadata": {},
     "output_type": "execute_result"
    }
   ],
   "source": [
    "add_indexes([0, 0, 0, 0, 0])"
   ]
  },
  {
   "cell_type": "code",
   "execution_count": 7,
   "id": "f96e2266",
   "metadata": {},
   "outputs": [
    {
     "data": {
      "text/plain": [
       "[1, 3, 5, 7, 9]"
      ]
     },
     "execution_count": 7,
     "metadata": {},
     "output_type": "execute_result"
    }
   ],
   "source": [
    "add_indexes([1, 2, 3, 4, 5])"
   ]
  },
  {
   "cell_type": "code",
   "execution_count": 8,
   "id": "41b7807a",
   "metadata": {},
   "outputs": [
    {
     "data": {
      "text/plain": [
       "[5, 5, 5, 5, 5]"
      ]
     },
     "execution_count": 8,
     "metadata": {},
     "output_type": "execute_result"
    }
   ],
   "source": [
    "add_indexes([5, 4, 3, 2, 1])"
   ]
  },
  {
   "cell_type": "markdown",
   "id": "11ac72c0",
   "metadata": {},
   "source": [
    "# Question3\n",
    "Create a function that takes the height and radius of a cone as arguments and returns the volume of the cone rounded to the nearest hundredth. See the resources tab for the formula.\n",
    "\n",
    "Examples\n",
    "\n",
    "cone_volume(3, 2) ➞ 12.57\n",
    "\n",
    "cone_volume(15, 6) ➞ 565.49\n",
    "\n",
    "cone_volume(18, 0) ➞ 0"
   ]
  },
  {
   "cell_type": "code",
   "execution_count": 9,
   "id": "d8c4748f",
   "metadata": {},
   "outputs": [
    {
     "name": "stdout",
     "output_type": "stream",
     "text": [
      "Volume Of Cone :  314\n"
     ]
    }
   ],
   "source": [
    "import math\n",
    "pi = math.pi\n",
    " \n",
    "# Function to calculate Volume of Cone\n",
    "def cone_volume(r, h):\n",
    "    return round((1 / 3) * pi * r * r * h)\n",
    " \n",
    "\n",
    "# Driver Code\n",
    "radius = float(5)\n",
    "height = float(12)\n",
    "\n",
    "print( \"Volume Of Cone : \", cone_volume(radius, height) )"
   ]
  },
  {
   "cell_type": "code",
   "execution_count": 10,
   "id": "e6799e59",
   "metadata": {},
   "outputs": [
    {
     "data": {
      "text/plain": [
       "19"
      ]
     },
     "execution_count": 10,
     "metadata": {},
     "output_type": "execute_result"
    }
   ],
   "source": [
    "cone_volume(3, 2)"
   ]
  },
  {
   "cell_type": "code",
   "execution_count": 11,
   "id": "cef2e4b4",
   "metadata": {},
   "outputs": [
    {
     "data": {
      "text/plain": [
       "1414"
      ]
     },
     "execution_count": 11,
     "metadata": {},
     "output_type": "execute_result"
    }
   ],
   "source": [
    "cone_volume(15, 6)"
   ]
  },
  {
   "cell_type": "code",
   "execution_count": 12,
   "id": "12492a4d",
   "metadata": {},
   "outputs": [
    {
     "data": {
      "text/plain": [
       "0"
      ]
     },
     "execution_count": 12,
     "metadata": {},
     "output_type": "execute_result"
    }
   ],
   "source": [
    "cone_volume(18, 0)"
   ]
  },
  {
   "cell_type": "markdown",
   "id": "823a6fd7",
   "metadata": {},
   "source": [
    "# Question4\n",
    "This Triangular Number Sequence is generated from a pattern of dots that form a triangle.\n",
    "\n",
    "The first 5 numbers of the sequence, or dots, are:\n",
    "\n",
    "1, 3, 6, 10, 15\n",
    "This means that the first triangle has just one dot, the second one has three dots, the third one has 6 dots and so on.\n",
    "\n",
    "Write a function that gives the number of dots with its corresponding triangle number of the sequence.\n",
    "\n",
    "Examples\n",
    "\n",
    "triangle(1) ➞ 1\n",
    "\n",
    "triangle(6) ➞ 21\n",
    "\n",
    "triangle(215) ➞ 23220"
   ]
  },
  {
   "cell_type": "markdown",
   "id": "a46cd34c",
   "metadata": {},
   "source": [
    "A Rule\n",
    "\n",
    "We can make a \"Rule\" so we can calculate any triangular number.\n",
    "\n",
    "First, rearrange the dots like this:\n",
    "\n",
    "triangular numbers 1 to 5\n",
    "\n",
    "Then double the number of dots, and form them into a rectangle:\n",
    "\n",
    "triangular numbers when doubled become n by n+1 rectangles\n",
    "\n",
    "Now it is easy to work out how many dots: just multiply n by n+1\n",
    "\n",
    "Dots in rectangle = n(n+1)\n",
    "\n",
    "But remember we doubled the number of dots, so\n",
    "\n",
    "Dots in triangle = n(n+1)/2\n",
    "\n",
    "We can use xn to mean \"dots in triangle n\", so we get the rule:\n",
    "\n",
    "Rule: xn = n(n+1)/2"
   ]
  },
  {
   "cell_type": "code",
   "execution_count": 13,
   "id": "5be3ecb2",
   "metadata": {},
   "outputs": [
    {
     "name": "stdout",
     "output_type": "stream",
     "text": [
      "Enter the trinalge number :55\n",
      "The 55th triangle has 1540 dots \n"
     ]
    }
   ],
   "source": [
    "def triangle(n):\n",
    "    return n*(n+1)*0.5\n",
    "\n",
    "n = int(input('Enter the trinalge number :'))\n",
    "print(\"The {}th triangle has {} dots \".format(n,int(triangle(n))))"
   ]
  },
  {
   "cell_type": "code",
   "execution_count": 14,
   "id": "ab8c97cf",
   "metadata": {},
   "outputs": [
    {
     "data": {
      "text/plain": [
       "23220.0"
      ]
     },
     "execution_count": 14,
     "metadata": {},
     "output_type": "execute_result"
    }
   ],
   "source": [
    "triangle(215)\n"
   ]
  },
  {
   "cell_type": "code",
   "execution_count": 15,
   "id": "2aae62e5",
   "metadata": {},
   "outputs": [
    {
     "data": {
      "text/plain": [
       "1.0"
      ]
     },
     "execution_count": 15,
     "metadata": {},
     "output_type": "execute_result"
    }
   ],
   "source": [
    " triangle(1)"
   ]
  },
  {
   "cell_type": "markdown",
   "id": "20161013",
   "metadata": {},
   "source": [
    "# Question5\n",
    "Create a function that takes a list of numbers between 1 and 10 (excluding one number) and returns the missing number.\n",
    "\n",
    "Examples\n",
    "\n",
    "missing_num([1, 2, 3, 4, 6, 7, 8, 9, 10]) ➞ 5\n",
    "\n",
    "missing_num([7, 2, 3, 6, 5, 9, 1, 4, 8]) ➞ 10\n",
    "\n",
    "missing_num([10, 5, 1, 2, 4, 6, 8, 3, 9]) ➞ 7"
   ]
  },
  {
   "cell_type": "code",
   "execution_count": 16,
   "id": "71844bba",
   "metadata": {},
   "outputs": [
    {
     "name": "stdout",
     "output_type": "stream",
     "text": [
      "5\n"
     ]
    }
   ],
   "source": [
    "def missing_num(lst):\n",
    "    total = sum([x for x in range(11)])\n",
    "    sum_Of_list = sum(lst)\n",
    "    return total - sum_Of_list\n",
    "\n",
    "print(missing_num([1, 2, 3, 4, 6, 7, 8, 9, 10]))"
   ]
  },
  {
   "cell_type": "code",
   "execution_count": 17,
   "id": "25c563e9",
   "metadata": {},
   "outputs": [
    {
     "data": {
      "text/plain": [
       "10"
      ]
     },
     "execution_count": 17,
     "metadata": {},
     "output_type": "execute_result"
    }
   ],
   "source": [
    "missing_num([7, 2, 3, 6, 5, 9, 1, 4, 8])"
   ]
  },
  {
   "cell_type": "code",
   "execution_count": 18,
   "id": "42e28dfa",
   "metadata": {},
   "outputs": [
    {
     "data": {
      "text/plain": [
       "7"
      ]
     },
     "execution_count": 18,
     "metadata": {},
     "output_type": "execute_result"
    }
   ],
   "source": [
    "missing_num([10, 5, 1, 2, 4, 6, 8, 3, 9])"
   ]
  },
  {
   "cell_type": "code",
   "execution_count": null,
   "id": "df19aebf",
   "metadata": {},
   "outputs": [],
   "source": []
  }
 ],
 "metadata": {
  "kernelspec": {
   "display_name": "Python 3 (ipykernel)",
   "language": "python",
   "name": "python3"
  },
  "language_info": {
   "codemirror_mode": {
    "name": "ipython",
    "version": 3
   },
   "file_extension": ".py",
   "mimetype": "text/x-python",
   "name": "python",
   "nbconvert_exporter": "python",
   "pygments_lexer": "ipython3",
   "version": "3.9.13"
  }
 },
 "nbformat": 4,
 "nbformat_minor": 5
}
