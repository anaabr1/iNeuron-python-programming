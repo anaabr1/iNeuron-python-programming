{
 "cells": [
  {
   "cell_type": "markdown",
   "id": "44f46fa2",
   "metadata": {},
   "source": [
    "# 1. Write a Python Program to Find LCM?\n",
    "\n",
    "        "
   ]
  },
  {
   "cell_type": "code",
   "execution_count": 1,
   "id": "36e19de4",
   "metadata": {},
   "outputs": [
    {
     "name": "stdout",
     "output_type": "stream",
     "text": [
      "Enter num1 : 11\n",
      "Enter num1 : 17\n",
      "The LCM of 11 and 17 is 187\n"
     ]
    }
   ],
   "source": [
    "a = int(input(\"Enter num1 : \"))\n",
    "b = int(input(\"Enter num1 : \"))\n",
    "\n",
    "if a > b:\n",
    "    bigger = a\n",
    "else:\n",
    "    bigger = b\n",
    "    \n",
    "while(True):\n",
    "    if bigger % a == 0 and bigger % b == 0 :\n",
    "        lcm = bigger\n",
    "        break\n",
    "    bigger+=1\n",
    "    \n",
    "print(\"The LCM of {} and {} is {}\".format(a,b,lcm))"
   ]
  },
  {
   "cell_type": "markdown",
   "id": "fe67c570",
   "metadata": {},
   "source": [
    "# 2. Write a Python Program to Find HCF?\n"
   ]
  },
  {
   "cell_type": "code",
   "execution_count": 2,
   "id": "601a4d85",
   "metadata": {},
   "outputs": [
    {
     "name": "stdout",
     "output_type": "stream",
     "text": [
      "Enter num1 : 6\n",
      "Enter num1 : 22\n",
      "The hcf of 6 and 22 is 2\n"
     ]
    }
   ],
   "source": [
    "a = int(input(\"Enter num1 : \"))\n",
    "b = int(input(\"Enter num1 : \"))\n",
    "\n",
    "if a < b:\n",
    "    smaller = a\n",
    "else:\n",
    "    smaller = b\n",
    "hcf = 0   \n",
    "for i in range(1,smaller+1):\n",
    "    if a % i == 0 and b % i == 0 :\n",
    "        hcf = i\n",
    "    \n",
    "print(\"The hcf of {} and {} is {}\".format(a,b,hcf))"
   ]
  },
  {
   "cell_type": "markdown",
   "id": "8921c2a9",
   "metadata": {},
   "source": [
    "# 3. Write a Python Program to Convert Decimal to Binary, Octal and Hexadecimal?\n"
   ]
  },
  {
   "cell_type": "code",
   "execution_count": 3,
   "id": "b3a0081b",
   "metadata": {},
   "outputs": [
    {
     "name": "stdout",
     "output_type": "stream",
     "text": [
      "Enter number :111\n",
      "111 in binary :  0b1101111\n",
      "111 in Octal :  0o157\n",
      "111 in Hexadecimal :  0x6f\n"
     ]
    }
   ],
   "source": [
    "num=int(input(\"Enter number :\"))\n",
    "\n",
    "print(num, \"in binary : \", bin(num))\n",
    "print(num, \"in Octal : \", oct(num))\n",
    "print(num, \"in Hexadecimal : \",hex(num))"
   ]
  },
  {
   "cell_type": "markdown",
   "id": "9cd65fc7",
   "metadata": {},
   "source": [
    "# 4. Write a Python Program To Find ASCII value of a character?\n"
   ]
  },
  {
   "cell_type": "code",
   "execution_count": 4,
   "id": "722c9916",
   "metadata": {},
   "outputs": [
    {
     "name": "stdout",
     "output_type": "stream",
     "text": [
      "Enter a Charecter : K\n",
      "Ascii value of K is 75\n"
     ]
    }
   ],
   "source": [
    "str = input(\"Enter a Charecter : \")\n",
    "# ord gives the ASCII value of a character\n",
    "print(\"Ascii value of {} is {}\".format(str,ord(str)))"
   ]
  },
  {
   "cell_type": "markdown",
   "id": "d8a80671",
   "metadata": {},
   "source": [
    "# 5. Write a Python Program to Make a Simple Calculator with 4 basic mathematical operations?\n"
   ]
  },
  {
   "cell_type": "code",
   "execution_count": 6,
   "id": "041e8e3a",
   "metadata": {},
   "outputs": [
    {
     "name": "stdout",
     "output_type": "stream",
     "text": [
      "Enter num1 :5\n",
      "Enter num2 :8\n",
      "Enter + for addition : \n",
      "Enter - for Subtraction :\n",
      "Enter * for multiplication :\n",
      "Enter / for division : /\n",
      "5.0 / 8.0 = 0.625\n"
     ]
    }
   ],
   "source": [
    "num1 = float(input(\"Enter num1 :\"))\n",
    "num2 = float(input(\"Enter num2 :\"))\n",
    "\n",
    "operation = input(\"Enter + for addition : \\nEnter - for Subtraction :\\nEnter * for multiplication :\\nEnter / for division : \")\n",
    "\n",
    "add = num1 + num2\n",
    "sub = num1 - num2\n",
    "mul = num1 * num2\n",
    "\n",
    "\n",
    "if operation == \"+\":\n",
    "    print(\"{} + {} = {}\".format(num1,num2,add))\n",
    "elif operation == \"-\":\n",
    "    print(\"{} - {} = {}\".format(num1,num2,sub))\n",
    "elif operation == \"*\":\n",
    "    print(\"{} * {} = {}\".format(num1,num2,mul))\n",
    "elif operation == \"/\":\n",
    "    if num1 == 0 or num2 == 0:\n",
    "        print(\"Division with zero is not possible\")\n",
    "    else:\n",
    "        div = num1 / num2\n",
    "        print(\"{} / {} = {}\".format(num1,num2,div))\n",
    "else:\n",
    "    print(\"Invalid input\")"
   ]
  },
  {
   "cell_type": "code",
   "execution_count": null,
   "id": "4fdba40b",
   "metadata": {},
   "outputs": [],
   "source": []
  }
 ],
 "metadata": {
  "kernelspec": {
   "display_name": "Python 3 (ipykernel)",
   "language": "python",
   "name": "python3"
  },
  "language_info": {
   "codemirror_mode": {
    "name": "ipython",
    "version": 3
   },
   "file_extension": ".py",
   "mimetype": "text/x-python",
   "name": "python",
   "nbconvert_exporter": "python",
   "pygments_lexer": "ipython3",
   "version": "3.9.13"
  }
 },
 "nbformat": 4,
 "nbformat_minor": 5
}
